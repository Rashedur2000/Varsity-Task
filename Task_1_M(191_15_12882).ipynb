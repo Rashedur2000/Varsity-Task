{
  "nbformat": 4,
  "nbformat_minor": 0,
  "metadata": {
    "colab": {
      "name": "Task-1_M(191-15-12882).ipynb",
      "provenance": [],
      "collapsed_sections": [],
      "authorship_tag": "ABX9TyNK71eESEtiFF/CGhhuTkDh",
      "include_colab_link": true
    },
    "kernelspec": {
      "name": "python3",
      "display_name": "Python 3"
    },
    "language_info": {
      "name": "python"
    }
  },
  "cells": [
    {
      "cell_type": "markdown",
      "metadata": {
        "id": "view-in-github",
        "colab_type": "text"
      },
      "source": [
        "<a href=\"https://colab.research.google.com/github/Rashedur2000/Varsity-Task/blob/main/Task_1_M(191_15_12882).ipynb\" target=\"_parent\"><img src=\"https://colab.research.google.com/assets/colab-badge.svg\" alt=\"Open In Colab\"/></a>"
      ]
    },
    {
      "cell_type": "markdown",
      "metadata": {
        "id": "8evCWAuYOuBg"
      },
      "source": [
        "# ***1***"
      ]
    },
    {
      "cell_type": "code",
      "metadata": {
        "id": "pxAIPaeVOePj"
      },
      "source": [
        "d_ft = int(input(\"Input distance in feet: \"))\n",
        "d_inches = d_ft * 12\n",
        "\n",
        "d_yards = d_ft / 3.0\n",
        "d_miles = d_ft / 5280.0\n",
        " \n",
        "print(\"The distance in inches is %i inches.\" % d_inches)\n",
        "\n",
        "print(\"The distance in yards is %.2f yards.\" % d_yards)\n",
        "\n",
        "print(\"The distance in miles is %.2f miles.\" % d_miles)\n"
      ],
      "execution_count": null,
      "outputs": []
    },
    {
      "cell_type": "markdown",
      "metadata": {
        "id": "wY2pYNauOuQU"
      },
      "source": [
        "# **2**"
      ]
    },
    {
      "cell_type": "code",
      "metadata": {
        "id": "dw7rupRiP4YC"
      },
      "source": [
        "Str1 =input (\"Enter The Sentence\")\n",
        "\n",
        "words =strl.split()\n",
        "\n",
        "rev_str1=[]\n",
        "\n",
        "for i in words :\n",
        "       \n",
        "     rev_str1.append(i[::-1])"
      ],
      "execution_count": null,
      "outputs": []
    },
    {
      "cell_type": "markdown",
      "metadata": {
        "id": "Zsnsx5zgOubN"
      },
      "source": [
        "# **3**"
      ]
    },
    {
      "cell_type": "code",
      "metadata": {
        "id": "yPOxdCxwPCwH",
        "colab": {
          "base_uri": "https://localhost:8080/"
        },
        "outputId": "3ac55b46-26b2-4aab-de53-61aa260035da"
      },
      "source": [
        "def is_circle_collision(circle1, circle2):\n",
        "   x1, y1, r1 = circle1\n",
        "   x2, y2, r2 = circle2\n",
        "   distance = ((x1-x2)**2 + (y1-y2)**2)**0.5\n",
        "   return distance <= r1 + r2\n",
        "print(is_circle_collision([1,2, 4], [1,2, 8]))\n",
        "print(is_circle_collision([0,0, 2], [10,10, 5]))"
      ],
      "execution_count": null,
      "outputs": [
        {
          "output_type": "stream",
          "text": [
            "True\n",
            "False\n"
          ],
          "name": "stdout"
        }
      ]
    },
    {
      "cell_type": "markdown",
      "metadata": {
        "id": "RX3NmLMoOumW"
      },
      "source": [
        "# **4**"
      ]
    },
    {
      "cell_type": "code",
      "metadata": {
        "id": "ZuuZKoVQPDqJ"
      },
      "source": [
        "# Python code to remove duplicate elements\n",
        "def Remove(duplicate):\n",
        "\tfinal_list = []\n",
        "\tfor num in duplicate:\n",
        "\t\tif num not in final_list:\n",
        "\t\t\tfinal_list.append(num)\n",
        "\treturn final_list\n",
        "\t\n",
        "# Driver Code\n",
        "duplicate = [2, 6, 11, 15, 5, 2, 15, 6]\n",
        "print(Remove(duplicate))"
      ],
      "execution_count": null,
      "outputs": []
    }
  ]
}