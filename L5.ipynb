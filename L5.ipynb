{
  "nbformat": 4,
  "nbformat_minor": 0,
  "metadata": {
    "colab": {
      "name": "L5.ipynb",
      "provenance": [],
      "authorship_tag": "ABX9TyP9kQCxywo5IFdd2dBKXkI5",
      "include_colab_link": true
    },
    "kernelspec": {
      "name": "python3",
      "display_name": "Python 3"
    }
  },
  "cells": [
    {
      "cell_type": "markdown",
      "metadata": {
        "id": "view-in-github",
        "colab_type": "text"
      },
      "source": [
        "<a href=\"https://colab.research.google.com/github/Rashedur2000/Varsity-Task/blob/main/L5.ipynb\" target=\"_parent\"><img src=\"https://colab.research.google.com/assets/colab-badge.svg\" alt=\"Open In Colab\"/></a>"
      ]
    },
    {
      "cell_type": "code",
      "metadata": {
        "colab": {
          "base_uri": "https://localhost:8080/"
        },
        "id": "DGJE5H2fcC1g",
        "outputId": "829dc0f1-9fe1-4d59-800f-7dcae299fb0c"
      },
      "source": [
        "class Student:\n",
        "   roll  = \"\"\n",
        "   gpa  = \"\"\n",
        "\n",
        "\n",
        "Hridoy = Student ()\n",
        "Hridoy.roll = 882\n",
        "Hridoy.gpa = 3.07\n",
        "print (f\"Roll : {Hridoy.roll}, GPA: {Hridoy.gpa}\")\n",
        "\n",
        "Ishua = Student ()\n",
        "Ishua.roll = 402\n",
        "Ishua.gpa = 3.57\n",
        "print (f\"Roll : {Ishua.roll}, GPA: {Ishua.gpa}\")"
      ],
      "execution_count": null,
      "outputs": [
        {
          "output_type": "stream",
          "text": [
            "Roll : 882, GPA: 3.07\n",
            "Roll : 402, GPA: 3.57\n"
          ],
          "name": "stdout"
        }
      ]
    }
  ]
}