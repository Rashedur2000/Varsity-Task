{
  "nbformat": 4,
  "nbformat_minor": 0,
  "metadata": {
    "colab": {
      "name": "lab task week 2.ipynb",
      "provenance": [],
      "collapsed_sections": [],
      "authorship_tag": "ABX9TyMaQzXSU9RArO1+RJPb+Gzu",
      "include_colab_link": true
    },
    "kernelspec": {
      "name": "python3",
      "display_name": "Python 3"
    },
    "language_info": {
      "name": "python"
    }
  },
  "cells": [
    {
      "cell_type": "markdown",
      "metadata": {
        "id": "view-in-github",
        "colab_type": "text"
      },
      "source": [
        "<a href=\"https://colab.research.google.com/github/Rashedur2000/Varsity-Task/blob/main/lab_task_week_2.ipynb\" target=\"_parent\"><img src=\"https://colab.research.google.com/assets/colab-badge.svg\" alt=\"Open In Colab\"/></a>"
      ]
    },
    {
      "cell_type": "markdown",
      "metadata": {
        "id": "t9YmMbU-tox9"
      },
      "source": [
        "# **Q1**"
      ]
    },
    {
      "cell_type": "code",
      "metadata": {
        "colab": {
          "base_uri": "https://localhost:8080/"
        },
        "id": "_cEAjDJPtoVK",
        "outputId": "aff25f56-ae54-4d22-f660-3433a2496726"
      },
      "source": [
        "def string_reverse(str1):\n",
        "\n",
        "    rstr1 = ''\n",
        "    index = len(str1)\n",
        "    while index > 0:\n",
        "        rstr1 += str1[ index - 1 ]\n",
        "        index = index - 1\n",
        "    return rstr1\n",
        "print(string_reverse('Hridoy12882'))"
      ],
      "execution_count": null,
      "outputs": [
        {
          "output_type": "stream",
          "text": [
            "28821yodirH\n"
          ],
          "name": "stdout"
        }
      ]
    },
    {
      "cell_type": "markdown",
      "metadata": {
        "id": "9ZOPY7kEto1U"
      },
      "source": [
        "# **Q2**"
      ]
    },
    {
      "cell_type": "code",
      "metadata": {
        "id": "YLlw-kt0uDnJ"
      },
      "source": [
        "def max_two_nums(a,b):\n",
        "    if a>b:\n",
        "        return a\n",
        "    return b\n",
        "def max_three_nums(a,b,c):\n",
        "    return max_two_nums(a,max_two_nums(b,c))     #Recursion\n",
        "a=int(input(\"Enter first number: \",))\n",
        "b=int(input(\"Enter second number: \",))\n",
        "c=int(input(\"Enter third number: \",))\n",
        "print(max_three_nums(a,b,c))"
      ],
      "execution_count": null,
      "outputs": []
    },
    {
      "cell_type": "markdown",
      "metadata": {
        "id": "1m9h0OUHto5D"
      },
      "source": [
        "# **Q3**"
      ]
    },
    {
      "cell_type": "code",
      "metadata": {
        "colab": {
          "base_uri": "https://localhost:8080/"
        },
        "id": "VenBGzE9vfW9",
        "outputId": "68ee3e66-0e56-4e4c-f6bb-3645927c2fb9"
      },
      "source": [
        "class Student:\n",
        "    pass \n",
        "class Marks:\n",
        "    pass \n",
        "student1 = Student()\n",
        "marks1 = Marks()\n",
        "print(isinstance(student1, Student))\n",
        "print(isinstance(marks1, Student))\n",
        "print(isinstance(marks1, Marks)) \n",
        "print(isinstance(student1, Marks))\n",
        "print(\"\\nCheck whether the said classes are subclasses of the built-in object class or not.\")\n",
        "print(issubclass(Student, object))\n",
        "print(issubclass(Marks, object)) "
      ],
      "execution_count": null,
      "outputs": [
        {
          "output_type": "stream",
          "text": [
            "True\n",
            "False\n",
            "True\n",
            "False\n",
            "\n",
            "Check whether the said classes are subclasses of the built-in object class or not.\n",
            "True\n",
            "True\n"
          ],
          "name": "stdout"
        }
      ]
    }
  ]
}