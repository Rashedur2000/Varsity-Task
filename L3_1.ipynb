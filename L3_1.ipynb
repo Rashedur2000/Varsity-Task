{
  "nbformat": 4,
  "nbformat_minor": 0,
  "metadata": {
    "colab": {
      "name": "L3-1.ipynb",
      "provenance": [],
      "authorship_tag": "ABX9TyOOC9fNfj2wV/GEIinJwoot",
      "include_colab_link": true
    },
    "kernelspec": {
      "name": "python3",
      "display_name": "Python 3"
    }
  },
  "cells": [
    {
      "cell_type": "markdown",
      "metadata": {
        "id": "view-in-github",
        "colab_type": "text"
      },
      "source": [
        "<a href=\"https://colab.research.google.com/github/Rashedur2000/Varsity-Task/blob/main/L3_1.ipynb\" target=\"_parent\"><img src=\"https://colab.research.google.com/assets/colab-badge.svg\" alt=\"Open In Colab\"/></a>"
      ]
    },
    {
      "cell_type": "code",
      "metadata": {
        "id": "9TjwunUjWg9q",
        "colab": {
          "base_uri": "https://localhost:8080/"
        },
        "outputId": "4c99f4d1-6eb0-4725-ffc5-3dcffa8c910e"
      },
      "source": [
        "mark = 38\n",
        "if mark >= 80:\n",
        "  print(\"A+\")\n",
        "elif mark > 70:\n",
        " if mark>=75:\n",
        "  print(\"A\")\n",
        "else:\n",
        "  print(\"B\")\n",
        "if mark < 40:\n",
        "  print(\"FAIL\")\n",
        "\n"
      ],
      "execution_count": 1,
      "outputs": [
        {
          "output_type": "stream",
          "name": "stdout",
          "text": [
            "B\n",
            "FAIL\n"
          ]
        }
      ]
    }
  ]
}