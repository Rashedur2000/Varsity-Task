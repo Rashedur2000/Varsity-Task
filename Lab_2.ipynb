{
  "nbformat": 4,
  "nbformat_minor": 0,
  "metadata": {
    "colab": {
      "name": "Lab 2.ipynb",
      "provenance": [],
      "authorship_tag": "ABX9TyMXbLDybTPCwYL96TPjz7r7",
      "include_colab_link": true
    },
    "kernelspec": {
      "name": "python3",
      "display_name": "Python 3"
    }
  },
  "cells": [
    {
      "cell_type": "markdown",
      "metadata": {
        "id": "view-in-github",
        "colab_type": "text"
      },
      "source": [
        "<a href=\"https://colab.research.google.com/github/Rashedur2000/Varsity-Task/blob/main/Lab_2.ipynb\" target=\"_parent\"><img src=\"https://colab.research.google.com/assets/colab-badge.svg\" alt=\"Open In Colab\"/></a>"
      ]
    },
    {
      "cell_type": "code",
      "metadata": {
        "colab": {
          "base_uri": "https://localhost:8080/"
        },
        "id": "zmjubSOYUZN_",
        "outputId": "b67a27ca-929a-40eb-e1e6-735c38f2d6b0"
      },
      "source": [
        "#Variables\n",
        "name = \"Hridoy\"\n",
        "years = 21\n",
        "print(\"My name is\" +name)\n",
        "print(\"I am\",years,\"old\")\n",
        "a = 21\n",
        "b = 5.6\n",
        "r = a+b\n",
        "print(r)\n",
        "r = a-b\n",
        "print(r)\n",
        "r = a*b\n",
        "print(r)\n",
        "r = a/b\n",
        "print(r)"
      ],
      "execution_count": null,
      "outputs": [
        {
          "output_type": "stream",
          "text": [
            "My name isHridoy\n",
            "I am 21 old\n",
            "26.6\n",
            "15.4\n",
            "117.6\n",
            "3.7500000000000004\n"
          ],
          "name": "stdout"
        }
      ]
    },
    {
      "cell_type": "code",
      "metadata": {
        "id": "rOdYxnRjUb4B",
        "colab": {
          "base_uri": "https://localhost:8080/"
        },
        "outputId": "2e7161b2-e738-4dfd-9a45-3248e715610b"
      },
      "source": [
        "#square and division value in integer  \n",
        "a = 2 \n",
        "r = a**2\n",
        "print(r)\n",
        "b = 19\n",
        "c = 4\n",
        "r = b//c\n",
        "print(r)"
      ],
      "execution_count": 1,
      "outputs": [
        {
          "output_type": "stream",
          "name": "stdout",
          "text": [
            "4\n",
            "4\n"
          ]
        }
      ]
    },
    {
      "cell_type": "code",
      "metadata": {
        "colab": {
          "base_uri": "https://localhost:8080/"
        },
        "id": "22kN_h2yUeB5",
        "outputId": "e9db1b83-89f8-4980-bcf3-709edd93b27b"
      },
      "source": [
        "#print integer\n",
        "print(20)\n",
        "#print character\n",
        "print(\"Hridoy\")\n",
        "#newline and backslash\n",
        "print(\"This is a python program.\\n We are doing it in google colab.\\n My name is \\\"Hridoy\\\"\")"
      ],
      "execution_count": 2,
      "outputs": [
        {
          "output_type": "stream",
          "name": "stdout",
          "text": [
            "20\n",
            "Hridoy\n",
            "This is a python program.\n",
            " We are doing it in google colab.\n",
            " My name is \"Hridoy\"\n"
          ]
        }
      ]
    },
    {
      "cell_type": "code",
      "metadata": {
        "id": "Tcav-7VVUn13",
        "colab": {
          "base_uri": "https://localhost:8080/"
        },
        "outputId": "25648077-fb23-425d-ec78-9044c19c0f74"
      },
      "source": [
        "#input method\n",
        "name = input(\"Enter your name: \")\n",
        "age = input(\"Enter your age: \")\n",
        "gpa = input(\"Enter your gpa: \")\n",
        "print(\"Details Information\")\n",
        "print(\"Name: \"+name)\n",
        "print(\"Age: \",age)\n",
        "print(\"GPA: \",gpa)"
      ],
      "execution_count": 3,
      "outputs": [
        {
          "output_type": "stream",
          "name": "stdout",
          "text": [
            "Enter your name: Hridoy\n",
            "Enter your age: 21\n",
            "Enter your gpa: 4\n",
            "Details Information\n",
            "Name: Hridoy\n",
            "Age:  21\n",
            "GPA:  4\n"
          ]
        }
      ]
    },
    {
      "cell_type": "code",
      "metadata": {
        "id": "_72u_D-Bs4SR"
      },
      "source": [
        ""
      ],
      "execution_count": 3,
      "outputs": []
    },
    {
      "cell_type": "code",
      "metadata": {
        "id": "zPV-mNGttC2u"
      },
      "source": [
        ""
      ],
      "execution_count": null,
      "outputs": []
    }
  ]
}