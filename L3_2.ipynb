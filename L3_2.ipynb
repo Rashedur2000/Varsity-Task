{
  "nbformat": 4,
  "nbformat_minor": 0,
  "metadata": {
    "colab": {
      "name": "L3-2.ipynb",
      "provenance": [],
      "authorship_tag": "ABX9TyN00dIeWqgRI47r1/EkK5OI",
      "include_colab_link": true
    },
    "kernelspec": {
      "name": "python3",
      "display_name": "Python 3"
    }
  },
  "cells": [
    {
      "cell_type": "markdown",
      "metadata": {
        "id": "view-in-github",
        "colab_type": "text"
      },
      "source": [
        "<a href=\"https://colab.research.google.com/github/Rashedur2000/Varsity-Task/blob/main/L3_2.ipynb\" target=\"_parent\"><img src=\"https://colab.research.google.com/assets/colab-badge.svg\" alt=\"Open In Colab\"/></a>"
      ]
    },
    {
      "cell_type": "code",
      "metadata": {
        "id": "KfjxivXnXIOr",
        "colab": {
          "base_uri": "https://localhost:8080/"
        },
        "outputId": "c024a403-3006-4cac-976a-084fd7906cc5"
      },
      "source": [
        "mark = int(input(\"Enter the mark:\"))\n",
        "if mark >= 80:\n",
        "  print(\"A+\")\n",
        "elif mark > 70:\n",
        " if mark>=75:\n",
        "  print(\"A\")\n",
        "else:\n",
        "  print(\"B\")\n",
        "if mark < 40:\n",
        "  print(\"FAIL\")"
      ],
      "execution_count": 3,
      "outputs": [
        {
          "output_type": "stream",
          "name": "stdout",
          "text": [
            "Enter the mark:86\n",
            "A+\n"
          ]
        }
      ]
    }
  ]
}