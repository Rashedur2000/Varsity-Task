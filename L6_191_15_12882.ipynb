{
  "nbformat": 4,
  "nbformat_minor": 0,
  "metadata": {
    "colab": {
      "name": "L6-191-15-12882.ipynb",
      "provenance": [],
      "authorship_tag": "ABX9TyOo78evW7l0t9YmY0c9PHhA",
      "include_colab_link": true
    },
    "kernelspec": {
      "name": "python3",
      "display_name": "Python 3"
    }
  },
  "cells": [
    {
      "cell_type": "markdown",
      "metadata": {
        "id": "view-in-github",
        "colab_type": "text"
      },
      "source": [
        "<a href=\"https://colab.research.google.com/github/Rashedur2000/Varsity-Task/blob/main/L6_191_15_12882.ipynb\" target=\"_parent\"><img src=\"https://colab.research.google.com/assets/colab-badge.svg\" alt=\"Open In Colab\"/></a>"
      ]
    },
    {
      "cell_type": "code",
      "metadata": {
        "id": "8KMdjScUeX9G",
        "colab": {
          "base_uri": "https://localhost:8080/"
        },
        "outputId": "d1bca3a0-74b1-4269-8fe9-d030a4ee933f"
      },
      "source": [
        "print(\"Hello World\")\n",
        "\n",
        "username=input(\"Name: \")\n",
        "id=int (input('Id: '))\n",
        "print(f\"Hey...i am {username}!!!My id is {id}\")\n"
      ],
      "execution_count": null,
      "outputs": [
        {
          "output_type": "stream",
          "text": [
            "Hello World\n"
          ],
          "name": "stdout"
        }
      ]
    },
    {
      "cell_type": "code",
      "metadata": {
        "id": "EMH2Nn89edz8",
        "colab": {
          "base_uri": "https://localhost:8080/"
        },
        "outputId": "a7a5eb21-7445-494c-ecac-3600ec81f400"
      },
      "source": [
        "class Person:\n",
        "    name=\" \"\n",
        "    skin_color=\" \"\n",
        "    height=\" \"\n",
        "    qualification=\" \"\n",
        "\n",
        "\n",
        "p1=Person()\n",
        "p1.name=\"Hridoy\"\n",
        "p1.skin_color=\"Fair\"\n",
        "p1.height=\"5.7\"\n",
        "p1.qualification=\"B.Sc\"\n",
        "print(f\"p1 :\\nName:{p1.name},\\nSkin_color:{p1.skin_color},\\nHeight:{p1.height},\\nQualification:{p1.qualification}.\")\n",
        "\n",
        "p2=Person()\n",
        "p2.name=\"Ishua\"\n",
        "p2.skin_color=\"Fair\"\n",
        "p2.height=\"5.2\"\n",
        "p2.qualification=\"B.Sc\"\n",
        "print(f\"P2 :\\nName:{p2.name},\\nSkin_color:{p2.skin_color},\\nHeight:{p2.height},\\nQualification:{p2.qualification}.\")\n",
        "\n"
      ],
      "execution_count": null,
      "outputs": [
        {
          "output_type": "stream",
          "text": [
            "p1 :\n",
            "Name:Hridoy,\n",
            "Skin_color:Fair,\n",
            "Height:5.7,\n",
            "Qualification:B.Sc.\n",
            "P2 :\n",
            "Name:Ishua,\n",
            "Skin_color:Fair,\n",
            "Height:5.2,\n",
            "Qualification:B.Sc.\n"
          ],
          "name": "stdout"
        }
      ]
    },
    {
      "cell_type": "code",
      "metadata": {
        "id": "IGbvznkFfGrg",
        "colab": {
          "base_uri": "https://localhost:8080/"
        },
        "outputId": "8da3f573-fd4e-4e1d-abad-3613ac878043"
      },
      "source": [
        "class Person:\n",
        "    name=\" \"\n",
        "    skin_color=\" \"\n",
        "    height=\" \"\n",
        "    qualification=\" \"\n",
        "\n",
        "    def set_value(self,name,skin_color,height,qualification):\n",
        "        self.name=name\n",
        "        self.skin_color=skin_color\n",
        "        self.height=height\n",
        "        self.qualification=qualification\n",
        "\n",
        "    def display(self):\n",
        "        print(f\"\\nName:{self.name},\\nSkin_color:{self.skin_color},\\nHeight:{self.height},\\nQualification:{self.qualification}\")\n",
        "\n",
        "\n",
        "p1=Person()\n",
        "p1.set_value(\"Hridoy\",\"Fair\",5.7,\"B.sc.\")\n",
        "p1.display()\n",
        "\n",
        "\n",
        "p2=Person()\n",
        "p2.set_value(\"Rasel\",\"Fair\",5.2,\"B.Sc.\")\n",
        "p2.display()\n",
        "\n",
        "\n",
        "p3=Person()\n",
        "p3.set_value(\"Shawon\",\"Brown\",5.7,\"B.sc.\")\n",
        "p3.display()"
      ],
      "execution_count": null,
      "outputs": [
        {
          "output_type": "stream",
          "text": [
            "\n",
            "Name:Hridoy,\n",
            "Skin_color:Fair,\n",
            "Height:5.7,\n",
            "Qualification:B.sc.\n",
            "\n",
            "Name:Rasel,\n",
            "Skin_color:Fair,\n",
            "Height:5.2,\n",
            "Qualification:B.Sc.\n",
            "\n",
            "Name:Shawon,\n",
            "Skin_color:Brown,\n",
            "Height:5.7,\n",
            "Qualification:B.sc.\n"
          ],
          "name": "stdout"
        }
      ]
    },
    {
      "cell_type": "code",
      "metadata": {
        "id": "fNbTkxJsfm6C",
        "colab": {
          "base_uri": "https://localhost:8080/"
        },
        "outputId": "919c42c4-9627-4ed9-8101-45fe60090677"
      },
      "source": [
        "class triangle:\n",
        "    base=\" \"\n",
        "    height=\" \"\n",
        "    area=\" \"\n",
        "\n",
        "\n",
        "    def __init__(self,base,height):\n",
        "        self.base=base\n",
        "        self.height=height\n",
        "\n",
        "    def area(self):\n",
        "        area=0.5 * self.base * self.height\n",
        "        print(\"Area=\",area)\n",
        "\n",
        "t1=triangle(18,35)\n",
        "t1.area()\n",
        "\n",
        "t2=triangle(22,38)\n",
        "t2.area()\n",
        "\n",
        "t3=triangle(39,96)\n",
        "t3.area()"
      ],
      "execution_count": null,
      "outputs": [
        {
          "output_type": "stream",
          "text": [
            "Area= 315.0\n",
            "Area= 418.0\n",
            "Area= 1872.0\n"
          ],
          "name": "stdout"
        }
      ]
    },
    {
      "cell_type": "code",
      "metadata": {
        "id": "n3HoHwYif6Lp",
        "colab": {
          "base_uri": "https://localhost:8080/"
        },
        "outputId": "31f307bc-8dc0-4551-ca98-ab2cd33d5406"
      },
      "source": [
        "class animal:\n",
        "    color=\" \"\n",
        "    leg=\" \"\n",
        "    def __init__(self,color,leg):\n",
        "        self.color=color\n",
        "        self.leg=leg\n",
        "\n",
        "    def display(self):\n",
        "        print(f\"\\nColor:{self.color},\\nLegs:{self.leg},\")\n",
        "\n",
        "class dog(animal):\n",
        "    def tail(self):\n",
        "        print(\"Man have legs\")\n",
        "\n",
        "class frog(animal):\n",
        "    def tail(self):           #Overriding Tail Method\n",
        "        print(\"Snake has no legs\")\n",
        "\n",
        "A1=dog('Black',4)\n",
        "A1.display()\n",
        "A1.tail()\n",
        "\n",
        "A2=frog('Blue',4)\n",
        "A2.display()\n",
        "A2.tail()"
      ],
      "execution_count": null,
      "outputs": [
        {
          "output_type": "stream",
          "text": [
            "\n",
            "Color:Black,\n",
            "Legs:4,\n",
            "Man have legs\n",
            "\n",
            "Color:Blue,\n",
            "Legs:4,\n",
            "Snake has no legs\n"
          ],
          "name": "stdout"
        }
      ]
    },
    {
      "cell_type": "code",
      "metadata": {
        "id": "Oxy5IQnxgDdX",
        "colab": {
          "base_uri": "https://localhost:8080/"
        },
        "outputId": "ffa6bb6c-c988-46a6-e748-735f06a584ec"
      },
      "source": [
        "class Shape:\n",
        "    base = \" \"\n",
        "    height = \" \"\n",
        "    area = \" \"\n",
        "\n",
        "    def __init__(self,base,height):\n",
        "        self.base=base\n",
        "        self.height=height\n",
        "\n",
        "class Triangle(Shape):\n",
        "    def area(self):\n",
        "        area = 0.5 * self.base * self.height\n",
        "        print(\"Area=\", area)\n",
        "\n",
        "\n",
        "class Rectangular(Shape):\n",
        "    def area(self):\n",
        "        area = self.base * self.height\n",
        "        print(\"Area=\", area)\n",
        "\n",
        "T=Triangle(380,520)\n",
        "T.area()\n",
        "\n",
        "T=Rectangular(210,820)\n",
        "T.area()"
      ],
      "execution_count": null,
      "outputs": [
        {
          "output_type": "stream",
          "text": [
            "Area= 98800.0\n",
            "Area= 172200\n"
          ],
          "name": "stdout"
        }
      ]
    },
    {
      "cell_type": "code",
      "metadata": {
        "id": "X1AUVGQbgRpD",
        "colab": {
          "base_uri": "https://localhost:8080/"
        },
        "outputId": "87560ffa-61d0-42be-efbb-d16506cd4ad8"
      },
      "source": [
        "class animal:\n",
        "    color=\" \"\n",
        "    leg=\" \"\n",
        "    def __init__(self,color,leg):\n",
        "        self.color=color\n",
        "        self.leg=leg\n",
        "\n",
        "    def display(self):\n",
        "        print(f\"\\nColor:{self.color},\\nLegs:{self.leg},\")\n",
        "\n",
        "class dog(animal):\n",
        "    def tail(self):\n",
        "        print(\"Dog has a tail\")\n",
        "\n",
        "class frog(dog):\n",
        "    def tail(self):           #Overriding Tail Method\n",
        "        print(\"Frog has no tail\")\n",
        "\n",
        "class animal:\n",
        "    color=\" \"\n",
        "    leg=\" \"\n",
        "    def __init__(self,color,leg):\n",
        "        self.color=color\n",
        "        self.leg=leg\n",
        "\n",
        "    def display(self):\n",
        "        print(f\"\\nColor:{self.color},\\nLegs:{self.leg},\")\n",
        "\n",
        "class dog(animal):\n",
        "    def tail(self):\n",
        "        print(\"It has a tail\")\n",
        "\n",
        "class cat(dog):\n",
        "        pass\n",
        "\n",
        "\n",
        "A1=dog('White',4)\n",
        "A1.display()\n",
        "A1.tail()\n",
        "\n",
        "A2=cat('Black',4)\n",
        "A2.display()\n",
        "A2.tail()"
      ],
      "execution_count": null,
      "outputs": [
        {
          "output_type": "stream",
          "text": [
            "\n",
            "Color:White,\n",
            "Legs:4,\n",
            "It has a tail\n",
            "\n",
            "Color:Black,\n",
            "Legs:4,\n",
            "It has a tail\n"
          ],
          "name": "stdout"
        }
      ]
    }
  ]
}