{
  "nbformat": 4,
  "nbformat_minor": 0,
  "metadata": {
    "colab": {
      "name": "L4-Dictionary.ipynb",
      "provenance": [],
      "authorship_tag": "ABX9TyPVAOAVuiCR2YDEkqJQUPb1",
      "include_colab_link": true
    },
    "kernelspec": {
      "name": "python3",
      "display_name": "Python 3"
    }
  },
  "cells": [
    {
      "cell_type": "markdown",
      "metadata": {
        "id": "view-in-github",
        "colab_type": "text"
      },
      "source": [
        "<a href=\"https://colab.research.google.com/github/Rashedur2000/Varsity-Task/blob/main/L4_Dictionary.ipynb\" target=\"_parent\"><img src=\"https://colab.research.google.com/assets/colab-badge.svg\" alt=\"Open In Colab\"/></a>"
      ]
    },
    {
      "cell_type": "code",
      "metadata": {
        "colab": {
          "base_uri": "https://localhost:8080/"
        },
        "id": "6wynsAj1YxHY",
        "outputId": "291aa862-095b-4e59-f7b0-262549f21bc6"
      },
      "source": [
        "theDict = {\n",
        "    \"key\" : \"1\",\n",
        "    \"name\" : \"Hridoy\",\n",
        "    \"home\" : \"Dhaka\",\n",
        "    \"year\" : 2020\n",
        "}\n",
        " \n",
        "print(theDict)\n",
        " \n",
        "a = theDict[\"name\"]\n",
        "b = theDict.get(\"home\")\n",
        "print(a)\n",
        "print(b)"
      ],
      "execution_count": null,
      "outputs": [
        {
          "output_type": "stream",
          "text": [
            "{'key': '1', 'name': 'Hridoy', 'home': 'Dhaka', 'year': 2020}\n",
            "Hridoy\n",
            "Dhaka\n"
          ],
          "name": "stdout"
        }
      ]
    },
    {
      "cell_type": "code",
      "metadata": {
        "id": "8VSjtXDcZMZ5"
      },
      "source": [
        "theDict = {\n",
        "    \"key\" : \"1\",\n",
        "    \"name\" : \"Hridoy\",\n",
        "    \"home\" : \"Dhaka\",\n",
        "    \"year\" : 2020\n",
        "}ict[\"name\"] = \"Hridoy\"\n",
        "print(theDict)"
      ],
      "execution_count": null,
      "outputs": []
    },
    {
      "cell_type": "code",
      "metadata": {
        "colab": {
          "base_uri": "https://localhost:8080/"
        },
        "id": "xqeCDQIqaDIq",
        "outputId": "752b086b-baef-410e-967e-709bf1c31c1f"
      },
      "source": [
        "for x in theDict:\n",
        "  print(x)\n",
        "  print(theDict[x])"
      ],
      "execution_count": null,
      "outputs": [
        {
          "output_type": "stream",
          "text": [
            "key\n",
            "1\n",
            "name\n",
            "Hridoy\n",
            "home\n",
            "Dhaka\n",
            "year\n",
            "2020\n"
          ],
          "name": "stdout"
        }
      ]
    },
    {
      "cell_type": "code",
      "metadata": {
        "colab": {
          "base_uri": "https://localhost:8080/"
        },
        "id": "xrMBg4ABaJtN",
        "outputId": "79511435-b68c-4d12-d533-649e3e5fce88"
      },
      "source": [
        "for x in theDict.values():\n",
        "  print(x)"
      ],
      "execution_count": null,
      "outputs": [
        {
          "output_type": "stream",
          "text": [
            "1\n",
            "Hridoy\n",
            "Dhaka\n",
            "2020\n"
          ],
          "name": "stdout"
        }
      ]
    },
    {
      "cell_type": "code",
      "metadata": {
        "colab": {
          "base_uri": "https://localhost:8080/"
        },
        "id": "C6ePs25gaNr-",
        "outputId": "424f57cc-b2b6-402a-d9d8-5f3264abd158"
      },
      "source": [
        "for x , y in theDict.items():\n",
        "  print(x , y)"
      ],
      "execution_count": null,
      "outputs": [
        {
          "output_type": "stream",
          "text": [
            "key 1\n",
            "name Hridoy\n",
            "home Dhaka\n",
            "year 2020\n"
          ],
          "name": "stdout"
        }
      ]
    },
    {
      "cell_type": "code",
      "metadata": {
        "colab": {
          "base_uri": "https://localhost:8080/"
        },
        "id": "_fJ6ZAUyaQJQ",
        "outputId": "345b883f-7f2f-493c-b61e-da51df0c6bd9"
      },
      "source": [
        "if \"Hridoy\" in theDict.values():\n",
        "  print(\"Yes\")"
      ],
      "execution_count": null,
      "outputs": [
        {
          "output_type": "stream",
          "text": [
            "Yes\n"
          ],
          "name": "stdout"
        }
      ]
    },
    {
      "cell_type": "code",
      "metadata": {
        "colab": {
          "base_uri": "https://localhost:8080/"
        },
        "id": "YH0GswUua792",
        "outputId": "56f575b3-2b79-4b06-8b61-10cf554af5ac"
      },
      "source": [
        "print(len(theDict))"
      ],
      "execution_count": null,
      "outputs": [
        {
          "output_type": "stream",
          "text": [
            "4\n"
          ],
          "name": "stdout"
        }
      ]
    },
    {
      "cell_type": "code",
      "metadata": {
        "colab": {
          "base_uri": "https://localhost:8080/"
        },
        "id": "x9gSc68la-Bm",
        "outputId": "e8bf8615-00db-4a41-eb61-379748bd9820"
      },
      "source": [
        "theDict[\"class\"] = 14\n",
        "print(theDict)"
      ],
      "execution_count": null,
      "outputs": [
        {
          "output_type": "stream",
          "text": [
            "{'key': '1', 'name': 'Hridoy', 'home': 'Dhaka', 'year': 2020, 'class': 14}\n"
          ],
          "name": "stdout"
        }
      ]
    },
    {
      "cell_type": "code",
      "metadata": {
        "colab": {
          "base_uri": "https://localhost:8080/"
        },
        "id": "IhSU9YsvbC7O",
        "outputId": "1eb50598-38c5-44b5-d14f-6191d742ab08"
      },
      "source": [
        "theDict[\"class\"] = 19\n",
        "print(theDict)"
      ],
      "execution_count": null,
      "outputs": [
        {
          "output_type": "stream",
          "text": [
            "{'key': '1', 'name': 'Hridoy', 'home': 'Dhaka', 'year': 2020, 'class': 19}\n"
          ],
          "name": "stdout"
        }
      ]
    },
    {
      "cell_type": "code",
      "metadata": {
        "colab": {
          "base_uri": "https://localhost:8080/"
        },
        "id": "mkiP2dK8bJ0Z",
        "outputId": "9af559b0-7bab-432b-98cd-3816bf527c76"
      },
      "source": [
        "theDict = {\n",
        "    \"key\" : \"1\",\n",
        "    \"name\" : \"Hridoy\",\n",
        "    \"home\" : \"Dhaka\",\n",
        "    \"year\" : 2020\n",
        "}\n",
        " \n",
        "print(theDict)\n",
        "theDict.clear()\n",
        "print(theDict)"
      ],
      "execution_count": null,
      "outputs": [
        {
          "output_type": "stream",
          "text": [
            "{'key': '1', 'name': 'Hridoy', 'home': 'Dhaka', 'year': 2020}\n",
            "{}\n"
          ],
          "name": "stdout"
        }
      ]
    },
    {
      "cell_type": "code",
      "metadata": {
        "colab": {
          "base_uri": "https://localhost:8080/"
        },
        "id": "WeWL7O5ubSkp",
        "outputId": "f97beda1-b124-41df-addc-3c48dcfe92a1"
      },
      "source": [
        "theDict = {\n",
        "    \"key\" : \"1\",\n",
        "    \"name\" : \"Hridoy\",\n",
        "    \"home\" : \"Dhaka\",\n",
        "    \"year\" : 2020\n",
        "}\n",
        " \n",
        "secondDi = theDict.copy()\n",
        "print(secondDi)"
      ],
      "execution_count": null,
      "outputs": [
        {
          "output_type": "stream",
          "text": [
            "{'key': '1', 'name': 'Hridoy', 'home': 'Dhaka', 'year': 2020}\n"
          ],
          "name": "stdout"
        }
      ]
    },
    {
      "cell_type": "code",
      "metadata": {
        "colab": {
          "base_uri": "https://localhost:8080/"
        },
        "id": "LFlYJDSBbboo",
        "outputId": "49ca46c2-c880-4694-f19b-ed27a0de7c23"
      },
      "source": [
        "thirdDi = dict(secondDi)\n",
        "print(thirdDi)"
      ],
      "execution_count": null,
      "outputs": [
        {
          "output_type": "stream",
          "text": [
            "{'key': '1', 'name': 'Hridoy', 'home': 'Dhaka', 'year': 2020}\n"
          ],
          "name": "stdout"
        }
      ]
    }
  ]
}