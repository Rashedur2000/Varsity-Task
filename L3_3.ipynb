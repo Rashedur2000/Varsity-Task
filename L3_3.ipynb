{
  "nbformat": 4,
  "nbformat_minor": 0,
  "metadata": {
    "colab": {
      "name": "L3-3.ipynb",
      "provenance": [],
      "authorship_tag": "ABX9TyOhKU1eLvOjo3LpjdxMr6M/",
      "include_colab_link": true
    },
    "kernelspec": {
      "name": "python3",
      "display_name": "Python 3"
    }
  },
  "cells": [
    {
      "cell_type": "markdown",
      "metadata": {
        "id": "view-in-github",
        "colab_type": "text"
      },
      "source": [
        "<a href=\"https://colab.research.google.com/github/Rashedur2000/Varsity-Task/blob/main/L3_3.ipynb\" target=\"_parent\"><img src=\"https://colab.research.google.com/assets/colab-badge.svg\" alt=\"Open In Colab\"/></a>"
      ]
    },
    {
      "cell_type": "code",
      "metadata": {
        "colab": {
          "base_uri": "https://localhost:8080/"
        },
        "id": "cliH4zI_YAP_",
        "outputId": "f0c89946-06fe-443e-e9a0-529a0702ad04"
      },
      "source": [
        "num = 1\n",
        "while (num <= 20):\n",
        "  print (num)\n",
        "  num = num + 2"
      ],
      "execution_count": null,
      "outputs": [
        {
          "output_type": "stream",
          "text": [
            "1\n",
            "3\n",
            "5\n",
            "7\n",
            "9\n",
            "11\n",
            "13\n",
            "15\n",
            "17\n",
            "19\n"
          ],
          "name": "stdout"
        }
      ]
    },
    {
      "cell_type": "code",
      "metadata": {
        "colab": {
          "base_uri": "https://localhost:8080/"
        },
        "id": "KRv1Qn7RYKOC",
        "outputId": "92b517a5-c8bb-4aca-f2a6-654d65ec5cde"
      },
      "source": [
        "num = 8\n",
        "count = 1\n",
        "while (count<=10):\n",
        "  print(f\"{num} * {count} = {num * count}\")\n",
        "  count = count + 1"
      ],
      "execution_count": null,
      "outputs": [
        {
          "output_type": "stream",
          "text": [
            "8 * 1 = 8\n",
            "8 * 2 = 16\n",
            "8 * 3 = 24\n",
            "8 * 4 = 32\n",
            "8 * 5 = 40\n",
            "8 * 6 = 48\n",
            "8 * 7 = 56\n",
            "8 * 8 = 64\n",
            "8 * 9 = 72\n",
            "8 * 10 = 80\n"
          ],
          "name": "stdout"
        }
      ]
    },
    {
      "cell_type": "code",
      "metadata": {
        "colab": {
          "base_uri": "https://localhost:8080/"
        },
        "id": "ypbHhRwvYLfp",
        "outputId": "96a8bde9-1905-4592-8f2f-682546f09523"
      },
      "source": [
        "n = 1\n",
        "result = 0\n",
        "while (n <= 100):\n",
        "  if (n==90):\n",
        "    n = n +1\n",
        "    continue\n",
        "  result = result + n\n",
        "  n = n+1\n",
        "print(result)\n",
        "print(n)"
      ],
      "execution_count": null,
      "outputs": [
        {
          "output_type": "stream",
          "text": [
            "4960\n",
            "101\n"
          ],
          "name": "stdout"
        }
      ]
    },
    {
      "cell_type": "code",
      "metadata": {
        "colab": {
          "base_uri": "https://localhost:8080/"
        },
        "id": "6vE30KIFYNm0",
        "outputId": "044db2bd-f1b7-4bd0-ea54-5a5f2429545e"
      },
      "source": [
        "num = 0\n",
        "for n in range (20):\n",
        "  num = num + n\n",
        "  print(num)\n"
      ],
      "execution_count": null,
      "outputs": [
        {
          "output_type": "stream",
          "text": [
            "0\n",
            "1\n",
            "3\n",
            "6\n",
            "10\n",
            "15\n",
            "21\n",
            "28\n",
            "36\n",
            "45\n",
            "55\n",
            "66\n",
            "78\n",
            "91\n",
            "105\n",
            "120\n",
            "136\n",
            "153\n",
            "171\n",
            "190\n"
          ],
          "name": "stdout"
        }
      ]
    },
    {
      "cell_type": "code",
      "metadata": {
        "colab": {
          "base_uri": "https://localhost:8080/"
        },
        "id": "wwm6krozYPy5",
        "outputId": "021af7da-087d-4b0f-bd59-f7ce3cd4062c"
      },
      "source": [
        "num = 7\n",
        "for n in range(5,28):\n",
        "  print(f\"{num} * {n} = {num*n}\")"
      ],
      "execution_count": null,
      "outputs": [
        {
          "output_type": "stream",
          "text": [
            "7 * 5 = 35\n",
            "7 * 6 = 42\n",
            "7 * 7 = 49\n",
            "7 * 8 = 56\n",
            "7 * 9 = 63\n",
            "7 * 10 = 70\n",
            "7 * 11 = 77\n",
            "7 * 12 = 84\n",
            "7 * 13 = 91\n",
            "7 * 14 = 98\n",
            "7 * 15 = 105\n",
            "7 * 16 = 112\n",
            "7 * 17 = 119\n",
            "7 * 18 = 126\n",
            "7 * 19 = 133\n",
            "7 * 20 = 140\n",
            "7 * 21 = 147\n",
            "7 * 22 = 154\n",
            "7 * 23 = 161\n",
            "7 * 24 = 168\n",
            "7 * 25 = 175\n",
            "7 * 26 = 182\n",
            "7 * 27 = 189\n"
          ],
          "name": "stdout"
        }
      ]
    },
    {
      "cell_type": "code",
      "metadata": {
        "colab": {
          "base_uri": "https://localhost:8080/"
        },
        "id": "L13rZa5ZYQnX",
        "outputId": "8b90f771-b580-4471-da66-8282b9487317"
      },
      "source": [
        "for n in range(5):\n",
        "  for o in range(n):\n",
        "    print(\"*\", end=\" \")\n",
        "  print()"
      ],
      "execution_count": null,
      "outputs": [
        {
          "output_type": "stream",
          "text": [
            "\n",
            "* \n",
            "* * \n",
            "* * * \n",
            "* * * * \n"
          ],
          "name": "stdout"
        }
      ]
    }
  ]
}